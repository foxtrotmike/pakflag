{
  "nbformat": 4,
  "nbformat_minor": 0,
  "metadata": {
    "colab": {
      "name": "pakflag.ipynb",
      "version": "0.3.2",
      "provenance": [],
      "include_colab_link": true
    },
    "kernelspec": {
      "name": "python3",
      "display_name": "Python 3"
    }
  },
  "cells": [
    {
      "cell_type": "markdown",
      "metadata": {
        "id": "view-in-github",
        "colab_type": "text"
      },
      "source": [
        "<a href=\"https://colab.research.google.com/github/foxtrotmike/pakflag/blob/master/pakflag.ipynb\" target=\"_parent\"><img src=\"https://colab.research.google.com/assets/colab-badge.svg\" alt=\"Open In Colab\"/></a>"
      ]
    },
    {
      "cell_type": "markdown",
      "metadata": {
        "id": "54UmGF8huJ2S",
        "colab_type": "text"
      },
      "source": [
        "# Pakistan Flag (made in Python)\n",
        "\n",
        "This script below can be used to make a regulation Pakistani Flag in Python. \n",
        "\n",
        "It was written by me as a solution to an assignment as part of my course on Python Programming. It demonstrates the concept of classes in Python and relies heavily on builtin plotting packages for drawing shapes.\n",
        "\n",
        "Happy Independence Day ad Happy Learning! \n",
        "\n",
        "([Fayyaz Minhas](https://sites.google.com/view/fayyaz))\n",
        "\n"
      ]
    },
    {
      "cell_type": "code",
      "metadata": {
        "id": "1yJiM_A0uL7A",
        "colab_type": "code",
        "outputId": "64dcaaf1-b1aa-4b62-eb0f-3982c59fb9ee",
        "colab": {
          "base_uri": "https://localhost:8080/",
          "height": 255
        }
      },
      "source": [
        "# -*- coding: utf-8 -*-\n",
        "\"\"\"\n",
        "Created on Wed Aug 14 10:50:11 2019\n",
        "Makes Pakistan Flag!\n",
        "@author: Fayyaz Minhas\n",
        "\"\"\"\n",
        "\n",
        "from matplotlib.patches import Rectangle,Circle, Polygon\n",
        "import matplotlib.pyplot as plt\n",
        "import math\n",
        "\n",
        "class myShape:\n",
        "    def __init__(self,name):  \n",
        "        if name is None or type(name)!=type('') or  not name.strip():\n",
        "            raise ValueError('Shape name cannot be empty!')            \n",
        "        self.name=name        \n",
        "    def render(self,ax):\n",
        "        \"\"\"\n",
        "        Add the current object to the figure axes\n",
        "        \"\"\"\n",
        "        plt.tick_params(\n",
        "        axis='x',          # changes apply to the x-axis\n",
        "        which='both',      # both major and minor ticks are affected\n",
        "        bottom=False,      # ticks along the bottom edge are off\n",
        "        top=False,         # ticks along the top edge are off\n",
        "        labelbottom=False) # labels along the bottom edge are off\n",
        "        plt.tick_params(\n",
        "        axis='y',          # changes apply to the x-axis\n",
        "        which='both',      # both major and minor ticks are affected\n",
        "        left=False,      # ticks along the bottom edge are off\n",
        "        right=False,         # ticks along the top edge are off\n",
        "        labelleft=False) # labels along the bottom edge are off\n",
        "        ax.add_artist(self)    \n",
        "    \n",
        "class myAARectangle(myShape,Rectangle):\n",
        "    \"\"\"\n",
        "    Axis Aligned Rectangle\n",
        "    \"\"\"\n",
        "    def __init__(self,name,xy=(0,0),width=1,height=None,**kwargs):\n",
        "        if height is None:\n",
        "            height=width\n",
        "        myShape.__init__(self,name=name) #calling myShape initializer for setting name properly\n",
        "        # Note that we pass `self` as an explicit argument in this call.\n",
        "        Rectangle.__init__(self,xy=xy,width=width,height=height,**kwargs) #Rectangle initializer for drawing\n",
        "        # Note that we pass `self` as an explicit argument in this call.\n",
        "        \n",
        "class myCircle(myShape,Circle):\n",
        "    def __init__(self,name,xy=(0,0),radius=1,**kwargs):        \n",
        "        myShape.__init__(self,name=name)        \n",
        "        Circle.__init__(self,xy=xy,radius=radius,**kwargs)\n",
        "        \n",
        "        \n",
        "def getStarPoints(xy,n,theta,ri,ro):\n",
        "    dt=2*math.pi/n\n",
        "    t=theta*math.pi/180.0\n",
        "    x0,y0=xy\n",
        "    P=[]\n",
        "    for i in range(n):\n",
        "        pout=x0+ro*math.cos(t),y0+ro*math.sin(t)\n",
        "        pin=x0+ri*math.cos(t+dt/2.0),y0+ri*math.sin(t+dt/2.0)\n",
        "        t+=dt\n",
        "        P.extend([pout,pin])\n",
        "    return P\n",
        "\n",
        "class myStar(myShape,Polygon):\n",
        "    def __init__(self,name,xy=(0,0),n=5,theta=45,ri=0.25,ro=0.5,color='r'):    \n",
        "        myShape.__init__(self,name=name)\n",
        "        self.edges = n        \n",
        "        self.theta = theta        \n",
        "        self.ri = ri\n",
        "        self.ro = ro\n",
        "        self.color = color\n",
        "        P = getStarPoints(xy,self.edges,self.theta,self.ri,self.ro)\n",
        "        Polygon.__init__(self,P, closed=True,color = color)\n",
        "    def __repr__(self):\n",
        "        return self.name + ' : ' + str(self.edges) + ' ' + str(self.color) + ' ' + str(self.loc)\n",
        "    def move(self,xy):\n",
        "        P = getStarPoints(xy,self.edges,self.theta,self.ri,self.ro) #calculate the new points based on new xy\n",
        "        P.append(P[0])\n",
        "        self.set_xy(P)\n",
        "        \n",
        "class myScene:\n",
        "    def __init__(self,name,contents=[],vport=[0,1,0,1]):\n",
        "        if name is None or type(name)!=type('') or not name.strip():\n",
        "            raise ValueError('Scene name cannot be empty!')\n",
        "        self.name=name\n",
        "        self.contents=contents\n",
        "        self.vport=vport\n",
        "    def show(self,figid=0):\n",
        "        plt.figure(figid) \n",
        "        plt.axis('image')  \n",
        "        plt.axis(self.vport) \n",
        "        ax = plt.gca()\n",
        "        for s in self.contents:\n",
        "            s.render(ax)               \n",
        "        plt.show()\n",
        "    def __str__(self):\n",
        "        s=str(self.__class__)+' instance: '+self.name\n",
        "        s+=' with '+str(len(self.contents))+' objects'\n",
        "        return s\n",
        "    def __repr__(self):\n",
        "        return self.__str__()  \n",
        "\n",
        "class myCrescent(myShape):\n",
        "    def __init__(self,name,c0,r0,fcolor,c1,r1,bcolor):\n",
        "        myShape.__init__(self,name=name)\n",
        "        self.c1=myCircle(name=name+':c1',xy=c0,radius=r0,color=fcolor)\n",
        "        self.c2=myCircle(name=name+':c2',xy=c1,radius=r1,color=bcolor)\n",
        "    def render(self,ax):\n",
        "        self.c1.render(ax)\n",
        "        self.c2.render(ax)\n",
        "        \n",
        "     \n",
        "if __name__ == '__main__':\n",
        "    height=2/3. #overall height\n",
        "    width=1.0 #overall width\n",
        "    gwidth=0.75*width #green width\n",
        "    wwidth=width-gwidth #white width\n",
        "    rgb_green=(0,0.4,0.2)    \n",
        "    rg=myAARectangle(name='r-green',xy=[0, 0], width=width, height=height,color=rgb_green)\n",
        "    rw=myAARectangle(name='r-white',xy=[0, 0], width=wwidth, height=height,color='w')\n",
        "    cr=myCrescent(name='crescent',c0=(wwidth+gwidth/2.0,height/2.),r0=(3/10.)*height,fcolor='w',c1=(0.67*width,0.56*height), \\\n",
        "                  r1=(11/40.)*height,bcolor=rgb_green)\n",
        "    x=myStar('star',xy=(0.722*width,0.634*height),ro=0.1*height,ri=0.04*height,color='w')\n",
        "    flag=myScene(name='flag',contents=[rg,rw,cr,x],vport=[0,width,0,height])\n",
        "    flag.show()       \n",
        "   "
      ],
      "execution_count": 0,
      "outputs": [
        {
          "output_type": "display_data",
          "data": {
            "image/png": "[encoded data removed]",
            "text/plain": [
              "<Figure size 432x288 with 1 Axes>"
            ]
          },
          "metadata": {
            "tags": []
          }
        }
      ]
    },
    {
      "cell_type": "code",
      "metadata": {
        "id": "pDxpZwoquMoM",
        "colab_type": "code",
        "colab": {}
      },
      "source": [
        ""
      ],
      "execution_count": 0,
      "outputs": []
    }
  ]
}