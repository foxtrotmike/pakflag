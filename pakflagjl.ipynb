{
 "cells": [
  {
   "cell_type": "markdown",
   "metadata": {},
   "source": [
    "# Pakistan Flag (in JuliaLang)\n",
    "## By [Dr. Fayyaz Minhas](https://sites.google.com/view/fayyaz) \n",
    "\n",
    "On 14th of Auugust 2019, as my wish for a very happy independence day to all Pakistan, here is the regulation Pakistani flag made in JuliaLang. The code uses the awesome Luxor package for drawing! You can run this code in your Browser using [JuliaBox](https://www.juliabox.com/).\n",
    "\n"
   ]
  },
  {
   "cell_type": "code",
   "execution_count": 2,
   "metadata": {},
   "outputs": [
    {
     "data": {
      "image/png": "[encoded data removed]"
     },
     "metadata": {},
     "output_type": "display_data"
    }
   ],
   "source": [
    "using Pkg #add Luxor\n",
    "Pkg.add(\"Luxor\")\n",
    "using Luxor\n",
    "Drawing(600, 600,\"./test.png\")\n",
    "origin()\n",
    "background(\"white\")\n",
    "sf = 200 #flag size\n",
    "height=2/3.0 #overall height\n",
    "width=1.0 #overall width\n",
    "width = width*sf\n",
    "height = height*sf\n",
    "gwidth=0.75*width #green width\n",
    "wwidth=width-gwidth #white width\n",
    "rgb_green=(0,0.4,0.2)    \n",
    "@png begin \n",
    "        sethue(\"black\")\n",
    "        rect(O, width, height, :stroke)     \n",
    "        sethue(rgb_green)\n",
    "        rect(O, width, height, :fill)     \n",
    "        sethue(\"white\")\n",
    "        rect(O, wwidth, height, :fill)     \n",
    "        c0=Point(wwidth+gwidth/2.0,height/2.)\n",
    "        r0=(3/10.)*height\n",
    "        sethue(\"white\")\n",
    "        circle(c0, r0, :fill)\n",
    "        sethue(rgb_green)\n",
    "        c1=Point(0.67*width,height-0.56*height)\n",
    "        r1=(11/40.)*height\n",
    "        circle(c1, r1, :fill)        \n",
    "        sethue(\"white\")\n",
    "        c = Point(0.722*width, height-0.634*height)\n",
    "        star(c, 0.1*height, 5, 0.4, -45,:fill)\n",
    "     end\n",
    "\n"
   ]
  }
 ],
 "metadata": {
  "kernelspec": {
   "display_name": "Julia 1.0.3 (4 threads)",
   "language": "julia",
   "name": "julia-1.0k"
  },
  "language_info": {
   "file_extension": ".jl",
   "mimetype": "application/julia",
   "name": "julia",
   "version": "1.0.3"
  }
 },
 "nbformat": 4,
 "nbformat_minor": 2
}
